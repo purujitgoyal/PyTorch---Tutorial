{
 "cells": [
  {
   "cell_type": "code",
   "execution_count": 1,
   "metadata": {
    "collapsed": true
   },
   "outputs": [],
   "source": [
    "import torch\n",
    "import torch.autograd as autograd\n",
    "import torch.nn as nn\n",
    "import torch.nn.functional as F\n",
    "import torch.optim as optim"
   ]
  },
  {
   "cell_type": "code",
   "execution_count": 2,
   "metadata": {},
   "outputs": [
    {
     "data": {
      "text/plain": [
       "<torch._C.Generator at 0x7f7850f06e28>"
      ]
     },
     "execution_count": 2,
     "metadata": {},
     "output_type": "execute_result"
    }
   ],
   "source": [
    "torch.manual_seed(1)"
   ]
  },
  {
   "cell_type": "code",
   "execution_count": 28,
   "metadata": {},
   "outputs": [
    {
     "data": {
      "text/plain": [
       "[Variable containing:\n",
       " -0.5060 -0.0125  0.8425\n",
       " [torch.FloatTensor of size 1x3], Variable containing:\n",
       "  0.7640 -0.9862 -1.9526\n",
       " [torch.FloatTensor of size 1x3], Variable containing:\n",
       " -0.3435  0.2060 -0.6058\n",
       " [torch.FloatTensor of size 1x3], Variable containing:\n",
       " -0.3751 -0.1837 -0.0318\n",
       " [torch.FloatTensor of size 1x3], Variable containing:\n",
       " -0.2993 -1.0755 -0.1291\n",
       " [torch.FloatTensor of size 1x3]]"
      ]
     },
     "execution_count": 28,
     "metadata": {},
     "output_type": "execute_result"
    }
   ],
   "source": [
    "lstm = nn.LSTM(3, 3) # Input dim is 3, output dim is 3\n",
    "inputs = [autograd.Variable(torch.randn(1, 3))\n",
    "          for _ in range(5)]\n",
    "inputs"
   ]
  },
  {
   "cell_type": "code",
   "execution_count": 22,
   "metadata": {
    "scrolled": true
   },
   "outputs": [
    {
     "data": {
      "text/plain": [
       "(Variable containing:\n",
       " (0 ,.,.) = \n",
       "  -0.4621 -0.5060  1.1233\n",
       " [torch.FloatTensor of size 1x1x3], Variable containing:\n",
       " (0 ,.,.) = \n",
       "   0.4800 -0.0344 -0.4928\n",
       " [torch.FloatTensor of size 1x1x3])"
      ]
     },
     "execution_count": 22,
     "metadata": {},
     "output_type": "execute_result"
    }
   ],
   "source": [
    "hidden = (autograd.Variable(torch.randn(1, 1, 3)),\n",
    "          autograd.Variable(torch.randn(1, 1, 3)))\n",
    "\n",
    "hidden"
   ]
  },
  {
   "cell_type": "code",
   "execution_count": 29,
   "metadata": {},
   "outputs": [
    {
     "data": {
      "text/plain": [
       "Variable containing:\n",
       "(0 ,.,.) = \n",
       " -0.5060 -0.0125  0.8425\n",
       "[torch.FloatTensor of size 1x1x3]"
      ]
     },
     "execution_count": 29,
     "metadata": {},
     "output_type": "execute_result"
    }
   ],
   "source": [
    "inputs[0].view(1, 1, -1)"
   ]
  },
  {
   "cell_type": "code",
   "execution_count": 30,
   "metadata": {},
   "outputs": [],
   "source": [
    "for i in inputs:\n",
    "    # Step through the sequence one element at a time.\n",
    "    # after each step, hidden contains the hidden state.\n",
    "    out, hidden = lstm(i.view(1, 1, -1), hidden)\n",
    "#     print(out)\n",
    "#     print(hidden)"
   ]
  },
  {
   "cell_type": "code",
   "execution_count": 32,
   "metadata": {},
   "outputs": [
    {
     "name": "stdout",
     "output_type": "stream",
     "text": [
      "Variable containing:\n",
      "(0 ,.,.) = \n",
      " -0.0463 -0.2616  0.0733\n",
      "\n",
      "(1 ,.,.) = \n",
      "  0.0946 -0.1927 -0.0841\n",
      "\n",
      "(2 ,.,.) = \n",
      "  0.1387  0.0398 -0.1610\n",
      "\n",
      "(3 ,.,.) = \n",
      "  0.1861  0.1196 -0.0948\n",
      "\n",
      "(4 ,.,.) = \n",
      "  0.2235  0.1454 -0.0428\n",
      "[torch.FloatTensor of size 5x1x3]\n",
      "\n",
      "(Variable containing:\n",
      "(0 ,.,.) = \n",
      "  0.2235  0.1454 -0.0428\n",
      "[torch.FloatTensor of size 1x1x3]\n",
      ", Variable containing:\n",
      "(0 ,.,.) = \n",
      "  0.4146  0.5658 -0.2482\n",
      "[torch.FloatTensor of size 1x1x3]\n",
      ")\n"
     ]
    }
   ],
   "source": [
    "# alternatively, we can do the entire sequence all at once.\n",
    "\n",
    "inputs = torch.cat(inputs).view(len(inputs), 1, -1)\n",
    "hidden = (autograd.Variable(torch.randn(1, 1, 3)), autograd.Variable(\n",
    "    torch.randn((1, 1, 3))))  # clean out hidden state\n",
    "out, hidden = lstm(inputs, hidden)\n",
    "print(out)\n",
    "print(hidden)"
   ]
  },
  {
   "cell_type": "code",
   "execution_count": 37,
   "metadata": {
    "collapsed": true
   },
   "outputs": [],
   "source": [
    "def prepare_sequence(seq, to_ix):\n",
    "    idxs = [to_ix[w] for w in seq]\n",
    "    tensor = torch.LongTensor(idxs)\n",
    "    return autograd.Variable(tensor)"
   ]
  },
  {
   "cell_type": "code",
   "execution_count": 33,
   "metadata": {},
   "outputs": [
    {
     "name": "stdout",
     "output_type": "stream",
     "text": [
      "{'Everybody': 5, 'ate': 2, 'apple': 4, 'that': 7, 'read': 6, 'dog': 1, 'book': 8, 'the': 3, 'The': 0}\n"
     ]
    }
   ],
   "source": [
    "training_data = [\n",
    "    (\"The dog ate the apple\".split(), [\"DET\", \"NN\", \"V\", \"DET\", \"NN\"]),\n",
    "    (\"Everybody read that book\".split(), [\"NN\", \"V\", \"DET\", \"NN\"])]\n",
    "\n",
    "word_to_ix = {}\n",
    "for sent, tags in training_data:\n",
    "    for word in sent:\n",
    "        if word not in word_to_ix:\n",
    "            word_to_ix[word] = len(word_to_ix)\n",
    "print(word_to_ix)\n",
    "tag_to_ix = {\"DET\": 0, \"NN\": 1, \"V\": 2}\n",
    "\n",
    "# These will usually be more like 32 or 64 dimensional.\n",
    "# We will keep them small, so we can see how the weights change as we train.\n",
    "EMBEDDING_DIM = 6\n",
    "HIDDEN_DIM = 6"
   ]
  },
  {
   "cell_type": "code",
   "execution_count": 34,
   "metadata": {
    "collapsed": true
   },
   "outputs": [],
   "source": [
    "class LSTMTagger(nn.Module):\n",
    "    def __init__(self, embedding_dim, hidden_dim, vocab_size, tagset_size):\n",
    "        super(LSTMTagger, self).__init__()\n",
    "        self.hidden_dim = hidden_dim\n",
    "        self.word_embeddings = nn.Embedding(vocab_size, embedding_dim)\n",
    "\n",
    "        # The LSTM takes word embeddings as inputs, and outputs hidden states\n",
    "        # with dimensionality hidden_dim.\n",
    "        self.lstm = nn.LSTM(embedding_dim, hidden_dim)\n",
    "\n",
    "        # The linear layer that maps from hidden state space to tag space\n",
    "        self.hidden2tag = nn.Linear(hidden_dim, tagset_size)\n",
    "        self.hidden = self.init_hidden()\n",
    "\n",
    "    def init_hidden(self):\n",
    "        # Before we've done anything, we dont have any hidden state.\n",
    "        # Refer to the Pytorch documentation to see exactly\n",
    "        # why they have this dimensionality.\n",
    "        # The axes semantics are (num_layers, minibatch_size, hidden_dim)\n",
    "        return (autograd.Variable(torch.zeros(1, 1, self.hidden_dim)),\n",
    "                autograd.Variable(torch.zeros(1, 1, self.hidden_dim)))\n",
    "\n",
    "    def forward(self, sentence):\n",
    "        embeds = self.word_embeddings(sentence)\n",
    "        lstm_out, self.hidden = self.lstm(embeds.view(len(sentence), 1, -1), self.hidden)\n",
    "        tag_space = self.hidden2tag(lstm_out.view(len(sentence), -1))\n",
    "        tag_scores = F.log_softmax(tag_space)\n",
    "        return tag_scores"
   ]
  },
  {
   "cell_type": "code",
   "execution_count": 44,
   "metadata": {
    "collapsed": true
   },
   "outputs": [],
   "source": [
    "model = LSTMTagger(EMBEDDING_DIM, HIDDEN_DIM, len(word_to_ix), len(tag_to_ix))\n",
    "loss_function = nn.NLLLoss()\n",
    "optimizer = optim.SGD(model.parameters(), lr=0.1)"
   ]
  },
  {
   "cell_type": "code",
   "execution_count": 45,
   "metadata": {
    "scrolled": true
   },
   "outputs": [
    {
     "name": "stdout",
     "output_type": "stream",
     "text": [
      "Variable containing:\n",
      "-1.2865 -1.0214 -1.0115\n",
      "-1.2074 -1.0607 -1.0362\n",
      "-1.2565 -1.0547 -1.0022\n",
      "-1.2158 -1.0656 -1.0244\n",
      "-1.2071 -1.0159 -1.0821\n",
      "[torch.FloatTensor of size 5x3]\n",
      "\n"
     ]
    }
   ],
   "source": [
    "# Note that element i,j of the output is the score for tag j for word i.\n",
    "inputs = prepare_sequence(training_data[0][0], word_to_ix)\n",
    "tag_scores = model(inputs)\n",
    "print(tag_scores)"
   ]
  },
  {
   "cell_type": "code",
   "execution_count": 46,
   "metadata": {},
   "outputs": [
    {
     "data": {
      "text/plain": [
       "['The', 'dog', 'ate', 'the', 'apple']"
      ]
     },
     "execution_count": 46,
     "metadata": {},
     "output_type": "execute_result"
    }
   ],
   "source": [
    "training_data[0][0]"
   ]
  },
  {
   "cell_type": "code",
   "execution_count": 48,
   "metadata": {},
   "outputs": [],
   "source": [
    "for epoch in range(300):  # again, normally you would NOT do 300 epochs, it is toy data\n",
    "    for sentence, tags in training_data:\n",
    "        # Step 1. Remember that Pytorch accumulates gradients.\n",
    "        # We need to clear them out before each instance\n",
    "        model.zero_grad()\n",
    "\n",
    "        # Also, we need to clear out the hidden state of the LSTM,\n",
    "        # detaching it from its history on the last instance.\n",
    "        model.hidden = model.init_hidden()\n",
    "\n",
    "        # Step 2. Get our inputs ready for the network, that is, turn them into\n",
    "        # Variables of word indices.\n",
    "        sentence_in = prepare_sequence(sentence, word_to_ix)\n",
    "        targets = prepare_sequence(tags, tag_to_ix)\n",
    "\n",
    "        # Step 3. Run our forward pass.\n",
    "        tag_scores = model(sentence_in)\n",
    "\n",
    "        # Step 4. Compute the loss, gradients, and update the parameters by\n",
    "        #  calling optimizer.step()\n",
    "        loss = loss_function(tag_scores, targets)\n",
    "        loss.backward(retain_graph=True)\n",
    "        optimizer.step()"
   ]
  },
  {
   "cell_type": "code",
   "execution_count": 49,
   "metadata": {},
   "outputs": [
    {
     "name": "stdout",
     "output_type": "stream",
     "text": [
      "Variable containing:\n",
      "-0.1502 -2.0514 -4.5158\n",
      "-5.8275 -0.0116 -4.7582\n",
      "-3.5487 -4.8382 -0.0374\n",
      "-0.0372 -4.1244 -3.8944\n",
      "-5.8471 -0.0086 -5.1687\n",
      "[torch.FloatTensor of size 5x3]\n",
      "\n"
     ]
    }
   ],
   "source": [
    "inputs = prepare_sequence(training_data[0][0], word_to_ix)\n",
    "tag_scores = model(inputs)\n",
    "print(tag_scores)"
   ]
  },
  {
   "cell_type": "code",
   "execution_count": 50,
   "metadata": {
    "collapsed": true
   },
   "outputs": [],
   "source": [
    "class CharLvlRep(nn.Module):\n",
    "    def __init__(self, embedding_dim, rep_dim, char_size):  \n",
    "        super(CharLvlRep, self).__init__()\n",
    "        self.char_embeddings = nn.Embedding(char_size, embedding_dim).cuda()\n",
    "        self.lstm = nn.LSTM(embedding_dim, rep_dim).cuda()\n",
    "        \n",
    "    def forward(self, word, lstm_istate, is_train=False):\n",
    "        embeds = self.char_embeddings(word)\n",
    "        lstm_istate_var = (autograd.Variable(lstm_istate[0], requires_grad=False, volatile=not is_train),\n",
    "                           autograd.Variable(lstm_istate[1], requires_grad=False, volatile=not is_train))\n",
    "        char_reps, _ = self.lstm(embeds.view(len(word), 1, -1), lstm_istate_var)\n",
    "        final_char_rep = (char_reps[char_reps.size()[0]-1, :, :])\n",
    "        return final_char_rep"
   ]
  },
  {
   "cell_type": "code",
   "execution_count": 51,
   "metadata": {
    "collapsed": true
   },
   "outputs": [],
   "source": [
    "class LSTMTagger_(nn.Module):\n",
    "    def __init__(self, char_embedding_dim, char_rep_dim, char_size, \n",
    "                 word_embedding_dim, vocab_size, hidden_dim, tagset_size):\n",
    "        super(LSTMTagger, self).__init__()\n",
    "        self.char_rep_dim = char_rep_dim\n",
    "        self.model_char = CharLvlRep(char_embedding_dim, char_rep_dim, char_size)\n",
    "        self.word_embeddings = nn.Embedding(vocab_size, word_embedding_dim).cuda()\n",
    "        self.lstm = nn.LSTM(word_embedding_dim + char_rep_dim, hidden_dim).cuda()\n",
    "        self.hidden2tag = nn.Linear(hidden_dim, tagset_size).cuda()\n",
    "\n",
    "    def forward(self, sentence, words, word_lstm_istate, char_lstm_istate, is_train=False):\n",
    "        word_embeds = self.word_embeddings(sentence)\n",
    "        word_embeds = word_embeds.view(len(sentence), 1, -1)\n",
    "      \n",
    "        char_reps = autograd.Variable(torch.zeros(len(words),1,self.char_rep_dim).cuda(), volatile=not is_train)\n",
    "        for idx, word in enumerate(words):\n",
    "            char_reps[idx, :, :] = self.model_char(word, char_lstm_istate, is_train)\n",
    "      \n",
    "        embeds_cat = torch.cat((word_embeds, char_reps), dim=2)\n",
    "      \n",
    "        word_lstm_istate_var = (autograd.Variable(word_lstm_istate[0], requires_grad=False, volatile=not is_train),\n",
    "                                autograd.Variable(word_lstm_istate[1], requires_grad=False, volatile=not is_train))\n",
    "      \n",
    "        lstm_out, _ = self.lstm(embeds_cat, word_lstm_istate_var)\n",
    "        tag_space = self.hidden2tag(lstm_out.view(len(sentence), -1))\n",
    "        tag_scores = F.log_softmax(tag_space)\n",
    "        return tag_scores"
   ]
  },
  {
   "cell_type": "code",
   "execution_count": null,
   "metadata": {
    "collapsed": true
   },
   "outputs": [],
   "source": [
    "for epoch in range(N_EPOCH):\n",
    "    is_train = True\n",
    "    train_accuracy = 0.0\n",
    "    for idx, (sentence, tags) in enumerate(train_data):\n",
    "    # new training sequence -> zero the gradients of all models\n",
    "    model.zero_grad()\n",
    "    \n",
    "    # one-hot encoding of chars in words\n",
    "    words_in = []\n",
    "    \n",
    "    for word in sentence:\n",
    "        words_in.append(prepare_sequence(word, char_to_ix, is_train))\n",
    "    \n",
    "    # one-hot encoding of words in sentence\n",
    "    sentence_in = prepare_sequence(sentence, word_to_ix, is_train)\n",
    "    \n",
    "    # compute the scores (forward pass)\n",
    "    tag_scores = model(sentence_in, words_in, WORD_ISTATE, CHAR_ISTATE, is_train)\n",
    "    \n",
    "    # one-hot encoding of the labels for each word\n",
    "    targets = prepare_sequence(tags, tag_to_ix, is_train)\n",
    "    \n",
    "    # compute the accuracy\n",
    "    train_accuracy += get_accuracy(tag_scores, targets)\n",
    "    \n",
    "    # compute the loss, gradients, and update the parameters by\n",
    "    # calling optimizer.step()\n",
    "    loss = loss_function(tag_scores, targets)\n",
    "    loss.backward()\n",
    "    optimizer.step()\n",
    "    \n",
    "    loss_hyst.append(loss.data[0])\n",
    "    \n",
    "    if idx % PRINT_EVERY == 0:\n",
    "        print(\"It {}: loss = {}\".format(idx,loss.data[0]))\n",
    "  \n",
    "    train_accuracy /= len(train_data)\n",
    "    train_accuracy_hyst.append(train_accuracy.data[0])\n",
    "    print(\"Epoch {}: train_accuracy = {}\".format(epoch, train_accuracy.data[0]))\n",
    "  \n",
    "    # evaluate the validation accuracy after each epoch\n",
    "    is_train = False\n",
    "    valid_accuracy = 0.0\n",
    "    for sentence, tags in valid_data:\n",
    "        # one-hot encoding of chars in words\n",
    "        words_in = []\n",
    "    \n",
    "    for word in sentence:\n",
    "        words_in.append(prepare_sequence(word, char_to_ix, is_train))\n",
    "    \n",
    "    # one-hot encoding of words in sentence\n",
    "    sentence_in = prepare_sequence(sentence, word_to_ix, is_train)\n",
    "    \n",
    "    # compute the scores (forward pass)\n",
    "    tag_scores = model(sentence_in, words_in, WORD_ISTATE, CHAR_ISTATE, is_train)\n",
    "    \n",
    "    # one-hot encoding of the labels for each word\n",
    "    targets = prepare_sequence(tags, tag_to_ix, is_train)\n",
    "    \n",
    "    # compute the accuracy\n",
    "    valid_accuracy += get_accuracy(tag_scores, targets)\n",
    "    \n",
    "    valid_accuracy /= len(valid_data)\n",
    "    valid_accuracy_hyst.append(valid_accuracy.data[0])\n",
    "    print(\"Epoch {}: valid_accuracy = {}\".format(epoch, valid_accuracy.data[0]))\n",
    "  \n",
    "    # save the best model so far\n",
    "    if valid_accuracy.data[0] > best_valid_accuracy:\n",
    "        torch.save(model.state_dict(), SAVE_PATH)\n",
    "        best_valid_accuracy = valid_accuracy.data[0]"
   ]
  }
 ],
 "metadata": {
  "kernelspec": {
   "display_name": "Python 2",
   "language": "python",
   "name": "python2"
  },
  "language_info": {
   "codemirror_mode": {
    "name": "ipython",
    "version": 2
   },
   "file_extension": ".py",
   "mimetype": "text/x-python",
   "name": "python",
   "nbconvert_exporter": "python",
   "pygments_lexer": "ipython2",
   "version": "2.7.13"
  }
 },
 "nbformat": 4,
 "nbformat_minor": 2
}
